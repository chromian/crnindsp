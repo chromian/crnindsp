{
 "cells": [
  {
   "cell_type": "code",
   "execution_count": 1,
   "id": "bd266ab3-8165-4a8f-a81d-1c5d479d0f8c",
   "metadata": {},
   "outputs": [],
   "source": [
    "import crnindsp\n",
    "import numpy as np\n",
    "import pandas as pd"
   ]
  },
  {
   "cell_type": "markdown",
   "id": "eb5776ad-f71f-4a5a-b761-89f59463bea3",
   "metadata": {},
   "source": [
    "# Structural Decomposition\n",
    "This package $\\texttt{crnindsp}$ is proposed to do the structural decomposition of chemical reaction networks.\n",
    "The main propose is not to search for all the buffering structures.\n",
    "\n",
    "An advantage of this toolbox, in comparison to the package $\\texttt{ibuffpy}$, is that this package is runable on singular networks."
   ]
  },
  {
   "cell_type": "markdown",
   "id": "0de53947-de2c-4975-a39a-5838d9ed549b",
   "metadata": {},
   "source": [
    "## Example 1: a singular network"
   ]
  },
  {
   "cell_type": "code",
   "execution_count": 2,
   "id": "351f4d29-ad93-493c-bb1f-93bec0d3cb32",
   "metadata": {},
   "outputs": [
    {
     "name": "stdout",
     "output_type": "stream",
     "text": [
      "Given the stoichiometric matrix (nu)\n",
      "[[-1.  0.  0.  1.  0.]\n",
      " [ 0. -1.  0.  0.  1.]\n",
      " [-1. -1.  2.  0.  0.]\n",
      " [ 1.  0. -1.  0.  0.]\n",
      " [ 0.  1. -1.  0.  0.]]\n",
      "without specifying the regulatory information,\n",
      "one can use crnindsp.CRN(nu) to construct a chemical reaction network object,\n",
      "and the A-matrix is given by crnindsp.CRN(nu).A as\n",
      "[[inf  0. inf  0.  0.  1.]\n",
      " [ 0. inf inf  0.  0.  1.]\n",
      " [ 0.  0.  0. inf inf  1.]\n",
      " [ 0.  0.  0.  0.  0.  1.]\n",
      " [ 0.  0.  0.  0.  0.  1.]\n",
      " [ 0.  0.  1.  1.  1.  0.]]\n",
      "By putting the CRN class object as the input of crnindsp.indicator_diagnose(),\n",
      "one can obtains a structural decomposition\n"
     ]
    },
    {
     "data": {
      "text/html": [
       "<div>\n",
       "<style scoped>\n",
       "    .dataframe tbody tr th:only-of-type {\n",
       "        vertical-align: middle;\n",
       "    }\n",
       "\n",
       "    .dataframe tbody tr th {\n",
       "        vertical-align: top;\n",
       "    }\n",
       "\n",
       "    .dataframe thead th {\n",
       "        text-align: right;\n",
       "    }\n",
       "</style>\n",
       "<table border=\"1\" class=\"dataframe\">\n",
       "  <thead>\n",
       "    <tr style=\"text-align: right;\">\n",
       "      <th></th>\n",
       "      <th>chemicals</th>\n",
       "      <th>reactions</th>\n",
       "      <th>sign_det</th>\n",
       "    </tr>\n",
       "  </thead>\n",
       "  <tbody>\n",
       "    <tr>\n",
       "      <th>2</th>\n",
       "      <td>[X0]</td>\n",
       "      <td>[R0]</td>\n",
       "      <td>1.0</td>\n",
       "    </tr>\n",
       "    <tr>\n",
       "      <th>1</th>\n",
       "      <td>[X1]</td>\n",
       "      <td>[R1]</td>\n",
       "      <td>1.0</td>\n",
       "    </tr>\n",
       "    <tr>\n",
       "      <th>0</th>\n",
       "      <td>[X2, X3, X4]</td>\n",
       "      <td>[R2, R3, R4]</td>\n",
       "      <td>0.0</td>\n",
       "    </tr>\n",
       "  </tbody>\n",
       "</table>\n",
       "</div>"
      ],
      "text/plain": [
       "      chemicals     reactions  sign_det\n",
       "2          [X0]          [R0]       1.0\n",
       "1          [X1]          [R1]       1.0\n",
       "0  [X2, X3, X4]  [R2, R3, R4]       0.0"
      ]
     },
     "metadata": {},
     "output_type": "display_data"
    }
   ],
   "source": [
    "# Example 1: a singular network.\n",
    "print(\"Given the stoichiometric matrix (nu)\")\n",
    "nu = np.array([[ -1,  0,  0,  1,  0],\n",
    "               [  0, -1,  0,  0,  1],\n",
    "               [ -1, -1,  2,  0,  0],\n",
    "               [  1,  0, -1,  0,  0],\n",
    "               [  0,  1, -1,  0,  0],], dtype = float)\n",
    "print(nu)\n",
    "print(\"without specifying the regulatory information,\")\n",
    "print(\"one can use crnindsp.CRN(nu) to construct a chemical reaction network object,\")\n",
    "print(\"and the A-matrix is given by crnindsp.CRN(nu).A as\")\n",
    "crn = crnindsp.CRN(nu)\n",
    "A   = np.array(crn.A)\n",
    "print(A)\n",
    "print(\"By putting the CRN class object as the input of crnindsp.indicator_diagnose(),\")\n",
    "print(\"one can obtains a structural decomposition\")\n",
    "decomp = crnindsp.indicator_diagnose(crn)\n",
    "DF = pd.DataFrame(decomp)\n",
    "DF.index = DF.index[::-1] # this step is not necessary\n",
    "display(DF)"
   ]
  },
  {
   "cell_type": "markdown",
   "id": "f5842591-e9d3-4990-811b-18d969451933",
   "metadata": {},
   "source": [
    "In $\\texttt{crnindsp}$, we use (numpy.inf, -numpy.inf, numpy.nan, 0) to indicate the sign patterns of qualitative regulatory information.\n",
    "$$\n",
    "    (\\mathtt{numpy.inf}, \\mathtt{-numpy.inf}, \\mathtt{numpy.nan}, \\mathtt{0}) = (+, -, \\pm, 0)\n",
    "$$\n",
    "Note that, in algorithms of $\\texttt{crnindsp}$, the elementary arithmetic on signs is abit different from that in $\\texttt{numpy}$.\n",
    "\n",
    "For instance, we define $0\\times\\text{``}\\pm\\text{''}=0$, but $\\mathtt{0}\\times\\mathtt{numpy.nan}\\neq\\mathtt{0}$.\n",
    "Hence, users are not encouraged to manipulate sign-pattern or hybrid matrices such as $\\texttt{crnindsp.CRN().A}$ on their own."
   ]
  },
  {
   "cell_type": "markdown",
   "id": "1bb0bf66-6d96-4c4f-b69e-b1e1b18bcdf7",
   "metadata": {},
   "source": [
    "## Example 2: a regular network"
   ]
  },
  {
   "cell_type": "code",
   "execution_count": 3,
   "id": "847e0925-93da-406b-8633-314d0a3e3b44",
   "metadata": {},
   "outputs": [
    {
     "name": "stdout",
     "output_type": "stream",
     "text": [
      "Similarly, given a stoichiometric matrix\n",
      "[[-1.  1.  0.  0.  0.  0.  0.  0.]\n",
      " [ 1. -1. -1.  1. -1.  0.  0.  0.]\n",
      " [ 0.  0.  1. -1. -1.  3.  0.  0.]\n",
      " [ 0.  0.  0.  0.  0. -3.  0.  1.]\n",
      " [ 0.  0.  0.  0.  1.  0. -1.  0.]]\n",
      "and this time we further consider the regulatory information given by\n",
      "[[inf nan  0.  0.  0.  0.  0.  0.]\n",
      " [ 0. inf inf  0. inf  0.  0.  0.]\n",
      " [ 0.  0.  0. inf inf  0.  0.  0.]\n",
      " [ 0.  0.  0.  0.  0. inf  0.  0.]\n",
      " [ 0.  0.  0.  0.  0.  0. inf inf]]\n"
     ]
    }
   ],
   "source": [
    "# Example 2: a regular network\n",
    "print(\"Similarly, given a stoichiometric matrix\")\n",
    "S = np.array([[ -1,  1,  0,  0,  0,  0,  0,  0,],\n",
    "              [  1, -1, -1,  1, -1,  0,  0,  0,],\n",
    "              [  0,  0,  1, -1, -1,  3,  0,  0,],\n",
    "              [  0,  0,  0,  0,  0, -3,  0,  1,],\n",
    "              [  0,  0,  0,  0,  1,  0, -1,  0,],], dtype = float)\n",
    "print(S)\n",
    "print(\"and this time we further consider the regulatory information given by\")\n",
    "reginfo = S.copy() * 0\n",
    "reginfo[S < 0] = np.inf # since reactants should regulate the reactions positively\n",
    "# and we put\n",
    "reginfo[0, 1]  = np.nan # when assuming that chemical X0 can regulate reaction R1 positively and negatively\n",
    "reginfo[4, 7]  = np.inf # when assuming that chemical X4 regulates reaction R7 positively\n",
    "# Of course, one can assign (-inf) to an entry for a negative regulation.\n",
    "print(reginfo)"
   ]
  },
  {
   "cell_type": "markdown",
   "id": "b7e057d2-aea9-4283-9e60-f3b7184f994e",
   "metadata": {},
   "source": [
    "When constructing the crnindsp.CRN object, users can specify the chemical names (resp. reaction names) by the argument X_names (resp. R_names)."
   ]
  },
  {
   "cell_type": "code",
   "execution_count": 4,
   "id": "7dcd0524-e2b0-42a5-85a9-cea9ae089dad",
   "metadata": {},
   "outputs": [
    {
     "name": "stdout",
     "output_type": "stream",
     "text": [
      "Then the A-matrix is\n",
      "[[  inf  0.    0.    0.    0.    1.    0.    0.  ]\n",
      " [  nan   inf  0.    0.    0.    1.    0.    0.  ]\n",
      " [ 0.     inf  0.    0.    0.    0.    1.    0.  ]\n",
      " [ 0.    0.     inf  0.    0.    0.    0.    1.  ]\n",
      " [ 0.     inf   inf  0.    0.    0.   -1.    1.  ]\n",
      " [ 0.    0.    0.     inf  0.    0.   -0.67  0.67]\n",
      " [ 0.    0.    0.    0.     inf  0.   -1.    1.  ]\n",
      " [ 0.    0.    0.    0.     inf  0.   -2.    2.  ]]\n",
      "The structural decomposition is\n"
     ]
    },
    {
     "data": {
      "text/html": [
       "<div>\n",
       "<style scoped>\n",
       "    .dataframe tbody tr th:only-of-type {\n",
       "        vertical-align: middle;\n",
       "    }\n",
       "\n",
       "    .dataframe tbody tr th {\n",
       "        vertical-align: top;\n",
       "    }\n",
       "\n",
       "    .dataframe thead th {\n",
       "        text-align: right;\n",
       "    }\n",
       "</style>\n",
       "<table border=\"1\" class=\"dataframe\">\n",
       "  <thead>\n",
       "    <tr style=\"text-align: right;\">\n",
       "      <th></th>\n",
       "      <th>chemicals</th>\n",
       "      <th>reactions</th>\n",
       "      <th>sign_det</th>\n",
       "    </tr>\n",
       "  </thead>\n",
       "  <tbody>\n",
       "    <tr>\n",
       "      <th>3</th>\n",
       "      <td>[D]</td>\n",
       "      <td>[R5]</td>\n",
       "      <td>1.0</td>\n",
       "    </tr>\n",
       "    <tr>\n",
       "      <th>2</th>\n",
       "      <td>[A]</td>\n",
       "      <td>[R0, R1]</td>\n",
       "      <td>NaN</td>\n",
       "    </tr>\n",
       "    <tr>\n",
       "      <th>1</th>\n",
       "      <td>[B, C]</td>\n",
       "      <td>[R2, R3, R4]</td>\n",
       "      <td>-1.0</td>\n",
       "    </tr>\n",
       "    <tr>\n",
       "      <th>0</th>\n",
       "      <td>[E]</td>\n",
       "      <td>[R6, R7]</td>\n",
       "      <td>NaN</td>\n",
       "    </tr>\n",
       "  </tbody>\n",
       "</table>\n",
       "</div>"
      ],
      "text/plain": [
       "  chemicals     reactions  sign_det\n",
       "3       [D]          [R5]       1.0\n",
       "2       [A]      [R0, R1]       NaN\n",
       "1    [B, C]  [R2, R3, R4]      -1.0\n",
       "0       [E]      [R6, R7]       NaN"
      ]
     },
     "metadata": {},
     "output_type": "display_data"
    }
   ],
   "source": [
    "# Let's name the chemicals\n",
    "chem_names = ['A', 'B', 'C', 'D', 'E']\n",
    "\n",
    "# Then, the chemical reaction network is constructed by putting\n",
    "crn5sp = crnindsp.CRN(S, reginfo, X_names = chem_names) # and R_names if you want to name the reactions.\n",
    "# The A-matrix is\n",
    "A_5sp  = np.array(crn5sp.A)\n",
    "print(\"Then the A-matrix is\")\n",
    "print(A_5sp.round(2))\n",
    "\n",
    "# And we can analoguously do the analysis:\n",
    "decomp = crnindsp.indicator_diagnose(crn5sp)\n",
    "DF5sp = pd.DataFrame(decomp)\n",
    "DF5sp.index = DF5sp.index[::-1]\n",
    "print(\"The structural decomposition is\")\n",
    "display(DF5sp)\n",
    "# idx_eliminable = (np.sign(DF5sp.sign_det).abs() - 1).abs() < 1e-9\n",
    "# print(DF5sp.loc[~idx_eliminable, :])"
   ]
  }
 ],
 "metadata": {
  "kernelspec": {
   "display_name": "Python 3 (ipykernel)",
   "language": "python",
   "name": "python3"
  },
  "language_info": {
   "codemirror_mode": {
    "name": "ipython",
    "version": 3
   },
   "file_extension": ".py",
   "mimetype": "text/x-python",
   "name": "python",
   "nbconvert_exporter": "python",
   "pygments_lexer": "ipython3",
   "version": "3.8.10"
  }
 },
 "nbformat": 4,
 "nbformat_minor": 5
}
